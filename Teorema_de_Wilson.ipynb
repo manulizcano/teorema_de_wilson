{
  "nbformat": 4,
  "nbformat_minor": 0,
  "metadata": {
    "colab": {
      "provenance": []
    },
    "kernelspec": {
      "name": "python3",
      "display_name": "Python 3"
    },
    "language_info": {
      "name": "python"
    }
  },
  "cells": [
    {
      "cell_type": "code",
      "execution_count": null,
      "metadata": {
        "id": "QDQ_hEyqCxyc"
      },
      "outputs": [],
      "source": [
        "import math\n",
        "def es_primo(p):\n",
        "  if (math.factorial(p-2) % p == 1):\n",
        "    print(p, 'es primo')\n",
        "  else:\n",
        "    print(p, 'no es primo')"
      ]
    },
    {
      "cell_type": "code",
      "source": [
        "es_primo(10)"
      ],
      "metadata": {
        "colab": {
          "base_uri": "https://localhost:8080/"
        },
        "id": "mhgtrwPjDpVp",
        "outputId": "64ec0a24-15f6-484f-e037-aa2daccb6be1"
      },
      "execution_count": null,
      "outputs": [
        {
          "output_type": "stream",
          "name": "stdout",
          "text": [
            "10 no es primo\n"
          ]
        }
      ]
    },
    {
      "cell_type": "code",
      "source": [
        "def es_primo_v2(p):\n",
        "  x=1\n",
        "  for i in range(2,p-1):\n",
        "    x = (x*i)%p\n",
        "    if i %100000000 ==0:\n",
        "      print(i)\n",
        "  if (x == 1):\n",
        "    print(p, 'es primo')\n",
        "  else:\n",
        "    print(p, 'no es primo')"
      ],
      "metadata": {
        "id": "4j0v4GwrEGCL"
      },
      "execution_count": null,
      "outputs": []
    },
    {
      "cell_type": "code",
      "source": [
        "es_primo_v2(101)"
      ],
      "metadata": {
        "colab": {
          "base_uri": "https://localhost:8080/"
        },
        "id": "NnP_9nwNEb7A",
        "outputId": "5b684d4c-7e2f-4bfd-df91-614625874629"
      },
      "execution_count": null,
      "outputs": [
        {
          "output_type": "stream",
          "name": "stdout",
          "text": [
            "101 es primo\n"
          ]
        }
      ]
    },
    {
      "cell_type": "code",
      "source": [
        "for i in range(2,91):\n",
        "  if (91 % i==0):\n",
        "    print(i)"
      ],
      "metadata": {
        "colab": {
          "base_uri": "https://localhost:8080/"
        },
        "id": "wTqNjJqT_qML",
        "outputId": "ff0e1eea-d2a7-417a-8315-ff3383693f91"
      },
      "execution_count": null,
      "outputs": [
        {
          "output_type": "stream",
          "name": "stdout",
          "text": [
            "7\n",
            "13\n"
          ]
        }
      ]
    },
    {
      "cell_type": "code",
      "source": [
        "es_primo_v2(2147483647)"
      ],
      "metadata": {
        "colab": {
          "base_uri": "https://localhost:8080/"
        },
        "id": "VU_e12jmFTaX",
        "outputId": "67d522c1-bb51-4f03-d645-4e694a57e3a6"
      },
      "execution_count": null,
      "outputs": [
        {
          "output_type": "stream",
          "name": "stdout",
          "text": [
            "100000000\n",
            "200000000\n",
            "300000000\n",
            "400000000\n",
            "500000000\n",
            "600000000\n",
            "700000000\n",
            "800000000\n",
            "900000000\n",
            "1000000000\n",
            "1100000000\n",
            "1200000000\n",
            "1300000000\n",
            "1400000000\n",
            "1500000000\n",
            "1600000000\n",
            "1700000000\n",
            "1800000000\n",
            "1900000000\n",
            "2000000000\n",
            "2100000000\n",
            "2147483647 es primo\n"
          ]
        }
      ]
    },
    {
      "cell_type": "code",
      "source": [
        "129/3"
      ],
      "metadata": {
        "id": "7b1x9M4PZnW6",
        "outputId": "3a40be19-da0d-4128-e2bd-07745eb3a8eb",
        "colab": {
          "base_uri": "https://localhost:8080/"
        }
      },
      "execution_count": null,
      "outputs": [
        {
          "output_type": "execute_result",
          "data": {
            "text/plain": [
              "43.0"
            ]
          },
          "metadata": {},
          "execution_count": 1
        }
      ]
    },
    {
      "cell_type": "code",
      "source": [],
      "metadata": {
        "id": "JVJb3eQAZnah"
      },
      "execution_count": null,
      "outputs": []
    }
  ]
}